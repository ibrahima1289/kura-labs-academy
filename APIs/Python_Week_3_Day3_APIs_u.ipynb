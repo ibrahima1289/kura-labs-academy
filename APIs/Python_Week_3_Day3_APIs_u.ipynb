{
  "nbformat": 4,
  "nbformat_minor": 0,
  "metadata": {
    "colab": {
      "name": "Copy of Python_Week 3_Day3_APIs_u.ipynb",
      "provenance": [],
      "include_colab_link": true
    },
    "kernelspec": {
      "name": "python3",
      "display_name": "Python 3"
    },
    "language_info": {
      "name": "python"
    }
  },
  "cells": [
    {
      "cell_type": "markdown",
      "metadata": {
        "id": "view-in-github",
        "colab_type": "text"
      },
      "source": [
        "<a href=\"https://colab.research.google.com/github/ibrahima1289/kura-labs-academy/blob/main/APIs/Python_Week_3_Day3_APIs_u.ipynb\" target=\"_parent\"><img src=\"https://colab.research.google.com/assets/colab-badge.svg\" alt=\"Open In Colab\"/></a>"
      ]
    },
    {
      "cell_type": "markdown",
      "metadata": {
        "id": "eoTESRL2KBzW"
      },
      "source": [
        "\n",
        "\n",
        "<img src=\"https://i.imgur.com/X9R3e67.png\" style=\"float: left; margin: 20px; height: 55px\">\n",
        "\n",
        "#API's\n",
        "\n",
        "\n",
        "###Learning Objectives\n",
        "\n",
        "By the end of this class we should all be able to answer the following questions:\n",
        "\n",
        "1. What is an API?\n",
        "2. How do I consume one?\n",
        "3. How do I make one? (w/Flask if we have time)"
      ]
    },
    {
      "cell_type": "markdown",
      "metadata": {
        "id": "HefOS1plowOA"
      },
      "source": [
        "Let's get some facts about cats. Using the Cat Facts API. https://catfact.ninja/fact. \n",
        "\n",
        "- GET request (we need the base URL, and the route we want to use to get the resource we want to use)\n",
        "- Response, JSON"
      ]
    },
    {
      "cell_type": "code",
      "metadata": {
        "colab": {
          "base_uri": "https://localhost:8080/"
        },
        "id": "xdFiJY_4onEZ",
        "outputId": "9c2718d8-da93-4e51-e43a-e5ed292e08a1"
      },
      "source": [
        "import requests, json\n",
        "import random\n",
        "\n",
        "BASE_URL = \"https://catfact.ninja/fact/\"\n",
        "\n",
        "prompt = int (input(\"\\nHow many facts about cats whould you like to see? \"))\n",
        "if prompt == 0 or prompt <= 0:\n",
        "    print(\"\\nPlease enter an integer!!!\")\n",
        "\n",
        "fact_num = 1\n",
        "while fact_num <= prompt:\n",
        "  random_fact = requests.get(BASE_URL)\n",
        "  if random_fact.status_code == 200:\n",
        "    fact = random_fact.json()\n",
        "    print(f\"\\nFact #{fact_num} ===> {fact['fact']}\")\n",
        "  else:\n",
        "    print(\"Can't find what you're looking for.\")\n",
        "  fact_num += 1\n"
      ],
      "execution_count": 1,
      "outputs": [
        {
          "output_type": "stream",
          "text": [
            "\n",
            "How many facts about cats whould you like to see? 4\n",
            "\n",
            "Fact #1 ===> A cat cannot see directly under its nose.\n",
            "\n",
            "Fact #2 ===> The earliest ancestor of the modern cat lived about 30 million years ago. Scientists called it the Proailurus, which means “first cat” in Greek. The group of animals that pet cats belong to emerged around 12 million years ago.\n",
            "\n",
            "Fact #3 ===> A cat can’t climb head first down a tree because every claw on a cat’s paw points the same way. To get down from a tree, a cat must back down.\n",
            "\n",
            "Fact #4 ===> Cats lap liquid from the underside of their tongue, not from the top.\n"
          ],
          "name": "stdout"
        }
      ]
    },
    {
      "cell_type": "markdown",
      "metadata": {
        "id": "I0Z0FxAuokfZ"
      },
      "source": [
        "Let's get some weather data from https://api.openweathermap.org/data/2.5/weather? using our own input and present it to a user\n",
        "\n",
        "\n",
        "\n"
      ]
    },
    {
      "cell_type": "code",
      "metadata": {
        "id": "9qAidV3DIEuR"
      },
      "source": [
        ""
      ],
      "execution_count": null,
      "outputs": []
    },
    {
      "cell_type": "code",
      "metadata": {
        "colab": {
          "base_uri": "https://localhost:8080/"
        },
        "id": "zdSfoq8kjm-3",
        "outputId": "6148a5d5-b5ec-40a9-bfad-6bf7db129269"
      },
      "source": [
        "#Code here\n",
        "import requests, json\n",
        "\n",
        "city_name= input(\"Enter the city: \")\n",
        "\n",
        "api_key = \"11f4556dc609dd18f34f7ac730063264\"\n",
        "base_URL = \"https://api.openweathermap.org/data/2.5/weather?\"\n",
        "\n",
        "# Updated URL\n",
        "_URL = base_URL + \"q=\" + city_name + \"&appid=\" + api_key\n",
        "\n",
        "rsponse = requests.get(_URL)\n",
        "data = rsponse.json()\n",
        "\n",
        "if rsponse.status_code == 200:\n",
        "  print(f\"\\nThe status code is: {rsponse.status_code}\")\n",
        "  print(f\"\\nThe weather infos is: {data['weather']}\")\n",
        "  print()\n",
        "else:\n",
        "  print(\"\\nCan't find what you're looking for.\")"
      ],
      "execution_count": 2,
      "outputs": [
        {
          "output_type": "stream",
          "text": [
            "Enter the city: toronto\n",
            "\n",
            "The status code is: 200\n",
            "\n",
            "The weather infos is: [{'id': 800, 'main': 'Clear', 'description': 'clear sky', 'icon': '01d'}]\n",
            "\n"
          ],
          "name": "stdout"
        }
      ]
    },
    {
      "cell_type": "markdown",
      "metadata": {
        "id": "boB-Fhv-j4aR"
      },
      "source": [
        "##Forecast"
      ]
    },
    {
      "cell_type": "code",
      "metadata": {
        "id": "ad8uQZbWe-Wz"
      },
      "source": [
        ""
      ],
      "execution_count": null,
      "outputs": []
    },
    {
      "cell_type": "markdown",
      "metadata": {
        "id": "HBdBrtCyuvJh"
      },
      "source": [
        "#Your turn!\n",
        "\n",
        "Find an API here and do something interesting with it: https://apipheny.io/free-api/"
      ]
    },
    {
      "cell_type": "code",
      "metadata": {
        "id": "PhvZ8I7Zut2_",
        "colab": {
          "base_uri": "https://localhost:8080/"
        },
        "outputId": "e8c0c658-378c-439d-ac0f-abd966ab6cc5"
      },
      "source": [
        "## This API return a random joke.\n",
        "## Worked with Toshaya Watson @ kura labs\n",
        "\n",
        "import requests, json\n",
        "import random\n",
        "\n",
        "API_URL =\"https://official-joke-api.appspot.com/random_joke/\"\n",
        "\n",
        "random_joke = requests.get(API_URL)\n",
        "\n",
        "joke_num = random.randint(1,1000)\n",
        "\n",
        "print (\"This is joke \" + str(joke_num) + \".\\n\")\n",
        "\n",
        "if random_joke.status_code == 200:\n",
        "  data = random_joke.json()\n",
        "  print(data[\"setup\"])\n",
        "  print(data[\"punchline\"],\"\\n\")\n",
        "else:\n",
        "  print (f\"something is wrong: Error code\")\n"
      ],
      "execution_count": 3,
      "outputs": [
        {
          "output_type": "stream",
          "text": [
            "This is joke 666.\n",
            "\n",
            "Why can't you use \"Beef stew\"as a password?\n",
            "Because it's not stroganoff. \n",
            "\n"
          ],
          "name": "stdout"
        }
      ]
    },
    {
      "cell_type": "code",
      "metadata": {
        "id": "oNyvZd9yhiU_"
      },
      "source": [
        "\n"
      ],
      "execution_count": null,
      "outputs": []
    }
  ]
}