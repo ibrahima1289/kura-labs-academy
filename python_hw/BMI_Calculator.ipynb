{
  "nbformat": 4,
  "nbformat_minor": 0,
  "metadata": {
    "colab": {
      "name": "BMI_Calculator.ipynb",
      "provenance": [],
      "authorship_tag": "ABX9TyM3QDAkwIKWR6mhUTuxXvpt",
      "include_colab_link": true
    },
    "kernelspec": {
      "name": "python3",
      "display_name": "Python 3"
    },
    "language_info": {
      "name": "python"
    }
  },
  "cells": [
    {
      "cell_type": "markdown",
      "metadata": {
        "id": "view-in-github",
        "colab_type": "text"
      },
      "source": [
        "<a href=\"https://colab.research.google.com/github/ibrahima1289/Python-Codes/blob/main/BMI_Calculator.ipynb\" target=\"_parent\"><img src=\"https://colab.research.google.com/assets/colab-badge.svg\" alt=\"Open In Colab\"/></a>"
      ]
    },
    {
      "cell_type": "markdown",
      "metadata": {
        "id": "e9yukD1zPyDd"
      },
      "source": [
        "The goal of this python code is to calculate the Body Mass Index (BMI)."
      ]
    },
    {
      "cell_type": "code",
      "metadata": {
        "id": "oNC302wGo4E2"
      },
      "source": [
        "#BMI_Calculator\n",
        "\n",
        "weight_p = int(input(\"What is your weight in pounds?\\n\"))   #Declare all variables.\n",
        "height_f = int(input(\"What is your height?\\n In Feet = \"))\n",
        "height_in = int(input(\"In inches = \"))\n",
        "height_sq = ((height_f*12) + height_in)**2 #Formular that convert the height in Inches\n",
        "                                           #Then squares the result\n",
        "\n",
        "BMI = (weight_p/height_sq)*703 #Formular that calculate the BMI.\n",
        "get1 = (18.5*height_sq)/703 - weight_p #get1 and get2 are the variables that calculate the weight to gain or to lose.\n",
        "get2 = (25*height_sq)/703 - weight_p\n",
        "\n",
        "print(\"BMI = \",round(BMI,3))#Print BMI on the screen and rounds it up to three decimal places. \n",
        "\n",
        "if ((BMI >= 18.5) and (BMI <= 25)):#Set up of condition.\n",
        "    print(\"Great. Maintain your current healphy weight.\")\n",
        "else:\n",
        "    if ((BMI > 16) and (BMI <18.5)):\n",
        "        print(\"You are underweight.\")\n",
        "        print(\"To get to the healthy weight you need to gain from\",int(get1),\"to\",int(get2),\"pounds.\")\n",
        "    else:\n",
        "        if (BMI <= 16):\n",
        "            print(\"You are severely underweight.\")\n",
        "            #int() is used here to round the weight to gain, or, \n",
        "            #the weight to lose for the next condition below.\n",
        "            print(\"To get to the healthy weight you need to gain from\",int(get1),\"to\",int(get2),\"pounds.\")\n",
        "        else:\n",
        "            if ((BMI > 25) and (BMI < 30)):\n",
        "                print(\"You are overweight.\")\n",
        "                #The negative sign in front of int() change the order of the calculation because the weight is becoming big.\n",
        "                #if not, we would have a negative numbers for the weight to lose in order to stay healthy. \n",
        "                print(\"To get to the healthy weight you need to lose from\",int(-get2),\"to\",int(-get1),\"pounds.\")\n",
        "            else:\n",
        "                if(BMI >= 30):\n",
        "                    print(\"You are severely overweight.\")\n",
        "                    print(\"To get to the healthy weight you need to lose from\",int(-get2),\"to\",int(-get1),\"pounds.\")\n"
      ],
      "execution_count": null,
      "outputs": []
    }
  ]
}