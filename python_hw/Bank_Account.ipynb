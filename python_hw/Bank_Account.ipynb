{
  "nbformat": 4,
  "nbformat_minor": 0,
  "metadata": {
    "colab": {
      "name": "Bank Account.ipynb",
      "provenance": [],
      "collapsed_sections": [],
      "include_colab_link": true
    },
    "kernelspec": {
      "name": "python3",
      "display_name": "Python 3"
    },
    "language_info": {
      "name": "python"
    }
  },
  "cells": [
    {
      "cell_type": "markdown",
      "metadata": {
        "id": "view-in-github",
        "colab_type": "text"
      },
      "source": [
        "<a href=\"https://colab.research.google.com/github/ibrahima1289/Python-Codes/blob/main/kura%20labs/Bank_Account.ipynb\" target=\"_parent\"><img src=\"https://colab.research.google.com/assets/colab-badge.svg\" alt=\"Open In Colab\"/></a>"
      ]
    },
    {
      "cell_type": "markdown",
      "metadata": {
        "id": "V38oW7tn9S2T"
      },
      "source": [
        "**Bank account:**\n",
        "This python program is a bank account with the attributes and operatins below.\n",
        "\n",
        "The program is not exaustive.\n",
        "\n",
        "Attributes:\n",
        "\n",
        "* account_number\n",
        "* balance\n",
        "* name\n",
        "\n",
        "Operations:\n",
        "\n",
        "* authentication\n",
        "* deposit\n",
        "* withdraw\n",
        "* get_balance\n",
        "* transfer\n",
        "\n",
        "Ibrahima Diallo"
      ]
    },
    {
      "cell_type": "code",
      "metadata": {
        "id": "ldJH0B-O9RbZ"
      },
      "source": [
        "class Bankaccount:\n",
        "\n",
        "  def __init__(self):\n",
        "    \n",
        "    self.name = \"\"\n",
        "    self.balance = 0\n",
        "    self.passwd = 1234\n",
        "    self.login = 12345\n",
        "    self.islocked_out = False\n",
        "\n",
        "  def authentication(self):\n",
        "    self.name = str (input(\"Enter your name: \"))\n",
        "    self.submitted_login = int(input(\"Enter your account number: \"))\n",
        "    self.submitted_passwd = int(input(\"Password: \"))\n",
        "\n",
        "    counter = 1\n",
        "    while ((self.login != self.submitted_login) or (self.submitted_passwd != self.passwd)) and (counter <=1):\n",
        "      print (\"Attempt \", counter)\n",
        "      self.account_number = int(input(\"Login: \"))\n",
        "      self.submitted_passwd = int(input(\"Password: \"))\n",
        "      counter += 1\n",
        "\n",
        "    if (self.submitted_login == self.login or self.account_number == self.login) and (self.submitted_passwd == self.passwd):\n",
        "      print (\"\\nWelcome to your account!\\n\")\n",
        "    else:\n",
        "      print (\"Incorrect login credentials.\\nToo many attempts. You are locked out of this account.\")\n",
        "      self.islocked_out = True\n",
        "\n",
        "  def deposit(self):\n",
        "    if not self.islocked_out:\n",
        "      print(\"Do you want to deposit money? (yes/no)\")\n",
        "      answer = input()\n",
        "      if answer == \"yes\":\n",
        "        amount = float(input(\"\\n\\nEnter the amount you want to deposit: \"))\n",
        "        self.balance += amount\n",
        "      else:\n",
        "        print(\"Thank you for visiting us.\")\n",
        "\n",
        "  def withdraw(self):\n",
        "    if not self.islocked_out:\n",
        "      print(\"\\n\\nDo you want to withdraw money? (yes/no)\")\n",
        "      answer = str (input())\n",
        "      if answer == \"yes\":\n",
        "        wthdrw = float (input(\"How much do you want to withdraw? \"))\n",
        "        if wthdrw <= self.balance:\n",
        "          self.balance = self.balance - wthdrw\n",
        "          print(\"You enough money.\")\n",
        "          print(\"Balance after withdraw = \",self.balance)\n",
        "        else:\n",
        "          print(\"Sorry, you do not have enough money.\")\n",
        "\n",
        "  def transfer(self, other_account):\n",
        "     if not self.islocked_out:\n",
        "       print(\"\\n\\nDo you want to transfer money? (yes/no)\")\n",
        "       answer = str (input())\n",
        "       if answer == \"yes\":\n",
        "         trnsfr = float (input(\"How much do you want to transfer? \"))\n",
        "         if trnsfr <= self.balance:\n",
        "           other_account.balance += trnsfr\n",
        "           self.balance  = self.balance - trnsfr\n",
        "           print(\"You enough money.\")\n",
        "           print(\"\\nBalance after transfer = \",self.balance )\n",
        "           print(\"The new account has:\",other_account.balance)\n",
        "         else:\n",
        "           print(\"Sorry, you do not have enough money to transfer.\")\n",
        "\n",
        "  def display(self):\n",
        "    if not self.islocked_out:\n",
        "      print(f\"Account Infos| Name: {self.name}, New balance for the old account is: $ {self.balance}, Account #: {self.login}\")\n",
        "\n",
        "print(\"\\nWe assume the currency used is in dollars!!!\\n\")\n",
        "\n",
        "object_Bank = Bankaccount()\n",
        "# balance 0\n",
        "object_Bank2 = Bankaccount()\n",
        "# balance 0\n",
        "\n",
        "object_Bank.authentication()\n",
        "object_Bank.deposit()\n",
        "object_Bank.withdraw()\n",
        "object_Bank.transfer(object_Bank2)\n",
        "object_Bank.display()"
      ],
      "execution_count": null,
      "outputs": []
    }
  ]
}