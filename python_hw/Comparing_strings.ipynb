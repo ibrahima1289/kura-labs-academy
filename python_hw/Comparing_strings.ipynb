{
  "nbformat": 4,
  "nbformat_minor": 0,
  "metadata": {
    "colab": {
      "name": "Comparing strings.ipynb",
      "provenance": [],
      "authorship_tag": "ABX9TyNrs3/T83SLKyHk0zgc4URH",
      "include_colab_link": true
    },
    "kernelspec": {
      "name": "python3",
      "display_name": "Python 3"
    },
    "language_info": {
      "name": "python"
    }
  },
  "cells": [
    {
      "cell_type": "markdown",
      "metadata": {
        "id": "view-in-github",
        "colab_type": "text"
      },
      "source": [
        "<a href=\"https://colab.research.google.com/github/ibrahima1289/Python-Codes/blob/main/kura%20labs/Comparing_strings.ipynb\" target=\"_parent\"><img src=\"https://colab.research.google.com/assets/colab-badge.svg\" alt=\"Open In Colab\"/></a>"
      ]
    },
    {
      "cell_type": "markdown",
      "metadata": {
        "id": "DxUNhpFpu6ba"
      },
      "source": [
        "Takes two strings.\n",
        "\n",
        "Then check how many times the sub-strings is repeated in the initial string."
      ]
    },
    {
      "cell_type": "code",
      "metadata": {
        "colab": {
          "base_uri": "https://localhost:8080/"
        },
        "id": "NwTVxhTpUajl",
        "outputId": "2193d95a-40c7-4f4a-ad32-0313407d50ed"
      },
      "source": [
        "string = str(input(\"Enter an initial string: \"))\n",
        "sub_string = str(input(\"Enter a sub-string: \"))\n",
        "count = 0\n",
        "\n",
        "while sub_string in string:\n",
        "  index = string.find(sub_string)\n",
        "  string = string[:index] + string[index + 1:]\n",
        "  count += 1\n",
        "print(\"The sub-string '''\",sub_string,\"''' is repeated\",count,\"times in the initial string.\")"
      ],
      "execution_count": null,
      "outputs": [
        {
          "output_type": "stream",
          "text": [
            "Enter an initial string: banana\n",
            "Enter a sub-string: a\n",
            "The sub-string ''' a ''' is repeated 3 times in the initial string.\n"
          ],
          "name": "stdout"
        }
      ]
    }
  ]
}