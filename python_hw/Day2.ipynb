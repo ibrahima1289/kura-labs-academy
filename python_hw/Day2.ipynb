{
  "nbformat": 4,
  "nbformat_minor": 0,
  "metadata": {
    "colab": {
      "name": "Day2.ipynb",
      "provenance": [],
      "authorship_tag": "ABX9TyN7KjpGjgxlLKTec5u9j2gc",
      "include_colab_link": true
    },
    "kernelspec": {
      "name": "python3",
      "display_name": "Python 3"
    },
    "language_info": {
      "name": "python"
    }
  },
  "cells": [
    {
      "cell_type": "markdown",
      "metadata": {
        "id": "view-in-github",
        "colab_type": "text"
      },
      "source": [
        "<a href=\"https://colab.research.google.com/github/ibrahima1289/Python-Codes/blob/main/kura%20labs/Day2.ipynb\" target=\"_parent\"><img src=\"https://colab.research.google.com/assets/colab-badge.svg\" alt=\"Open In Colab\"/></a>"
      ]
    },
    {
      "cell_type": "markdown",
      "metadata": {
        "id": "Ty-R70ASMPik"
      },
      "source": [
        "8/4/2021\n",
        "---\n",
        "Kura Labs\n",
        "---\n",
        "**Python**"
      ]
    },
    {
      "cell_type": "markdown",
      "metadata": {
        "id": "WN4nbhKhMgQ-"
      },
      "source": [
        "1. Strings"
      ]
    },
    {
      "cell_type": "code",
      "metadata": {
        "id": "jXt_DtLUOl5u"
      },
      "source": [
        "name = input('What is your name? ')\n",
        "color = input('What is your favourite color? ')\n",
        "print(name + ' likes ' + color)"
      ],
      "execution_count": null,
      "outputs": []
    },
    {
      "cell_type": "markdown",
      "metadata": {
        "id": "6p82g5z5OpHi"
      },
      "source": [
        "2. Script that converts weight"
      ]
    },
    {
      "cell_type": "code",
      "metadata": {
        "colab": {
          "base_uri": "https://localhost:8080/"
        },
        "id": "AYRpTo0MMTkY",
        "outputId": "156a34f6-160a-4b64-fe23-4d6013be48bb"
      },
      "source": [
        "weight_lbs = input('What is your weight in pounds (lbs)? ')\n",
        "weight_kg = float(weight_lbs)*0.45\n",
        "print('Your weight in kilogramme (kg) is ', round(weight_kg,3),'.')"
      ],
      "execution_count": null,
      "outputs": [
        {
          "output_type": "stream",
          "text": [
            "What is your weight in pounds (lbs)? 190\n",
            "Your weight in kilogramme (kg) is  85.5 .\n"
          ],
          "name": "stdout"
        }
      ]
    },
    {
      "cell_type": "markdown",
      "metadata": {
        "id": "67W8M0FoOLHw"
      },
      "source": [
        "3. Home buying."
      ]
    },
    {
      "cell_type": "code",
      "metadata": {
        "id": "bSxIOyfxORtW"
      },
      "source": [
        "credit = input('What is your credit score? ')\n",
        "Price = input('What is the price of the house? ')\n",
        "\n",
        "if int(credit) > 699:\n",
        "    print('The buyer has good credit.')\n",
        "    down_payment = 0.1*float(Price)\n",
        "else:\n",
        "    print('The buyer does not have good credit.')\n",
        "    down_payment = 0.3 * float(Price)\n",
        "\n",
        "print(f\"They need to pay down: ${down_payment}\")"
      ],
      "execution_count": null,
      "outputs": []
    }
  ]
}