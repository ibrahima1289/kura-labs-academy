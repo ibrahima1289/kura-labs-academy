{
  "nbformat": 4,
  "nbformat_minor": 0,
  "metadata": {
    "colab": {
      "name": "Copy of Day4_Classes_Exercises_HW.ipynb",
      "provenance": [],
      "include_colab_link": true
    },
    "kernelspec": {
      "name": "python3",
      "display_name": "Python 3"
    },
    "language_info": {
      "name": "python"
    }
  },
  "cells": [
    {
      "cell_type": "markdown",
      "metadata": {
        "id": "view-in-github",
        "colab_type": "text"
      },
      "source": [
        "<a href=\"https://colab.research.google.com/github/ibrahima1289/Python-Codes/blob/main/kura%20labs/Day4_HW_kuralabs.ipynb\" target=\"_parent\"><img src=\"https://colab.research.google.com/assets/colab-badge.svg\" alt=\"Open In Colab\"/></a>"
      ]
    },
    {
      "cell_type": "markdown",
      "metadata": {
        "id": "4qUaQvz9uzuU"
      },
      "source": [
        ""
      ]
    },
    {
      "cell_type": "markdown",
      "metadata": {
        "id": "Vw_1I0Cmt737"
      },
      "source": [
        "1. Create a Circle class and intialize it with radius. Make two methods getArea and getCircumference inside this class."
      ]
    },
    {
      "cell_type": "code",
      "metadata": {
        "id": "Z0I53oRTug3G"
      },
      "source": [
        "import math\n",
        "\n",
        "class Circle:\n",
        "              \n",
        "    # define a constructor\n",
        "\n",
        "    def __init__(self, r):\n",
        "      self.r = r # r for radius of the circle\n",
        "           \n",
        "    # Method for area of the circle\n",
        "    def getArea(self):\n",
        "      Area = 2 * math.pi * self.r * self.r\n",
        "      return Area\n",
        "    \n",
        "    # Method for perimeter of the circle\n",
        "    def getCicumference(self):\n",
        "      Perim = 2 * math.pi * self.r\n",
        "      return Perim\n",
        "\n",
        "# get input from the user\n",
        "R = float(input('Please Enter the radius of the circle: '))\n",
        "    \n",
        "# create first object\n",
        "object1 = Circle(R)\n",
        "\n",
        "# call methods of rectangle\n",
        "area = object1.getArea()\n",
        "perimeter = object1.getCicumference()\n",
        "\n",
        "# print area and perimeter of the circle object\n",
        "print(\"Area of Rectangle =\",round(area,1))\n",
        "print(\"Perimeter of Rectangle =\",round(perimeter,1))\n"
      ],
      "execution_count": null,
      "outputs": []
    },
    {
      "cell_type": "markdown",
      "metadata": {
        "id": "Rcl8xnZS-ILO"
      },
      "source": [
        "2. Temperature converter class."
      ]
    },
    {
      "cell_type": "code",
      "metadata": {
        "id": "DlOy4145uxsc"
      },
      "source": [
        "class Temperature:\n",
        "              \n",
        "    # define a constructor\n",
        "    def __init__(self, t):\n",
        "      self.t = t # t is the temerature in Celcius and T in F\n",
        "  \n",
        "    # Convert fron F to Celcius\n",
        "\n",
        "    def Celcius(self):\n",
        "      temp = (self.t - 32)*5/9\n",
        "      if (temp>=100):#If the temperature in Celsius is greater than or equal to 100, output “Water evaporating”\n",
        "        print(\"Temperature in Celcius = \",round(temp,2))\n",
        "        print(\"Water is evaporating at this temperature.\")\n",
        "      elif (temp>0) and (temp<100):#Otherwise, “Water” \n",
        "        print(\"Temperature in Celcius = \",round(temp,2))\n",
        "        print(\"Water is liquid at this temperature.\")\n",
        "      else:\n",
        "        if(temp<=0):#If the temperature in Celsius is equal to or less than 0, output “Water is freezing \n",
        "          print(\"Temperature in Celcius = \",round(temp,2))\n",
        "          print(\"Water is freezing at this temperature.\")\n",
        "      return temp\n",
        "    # Convert from Celcius to F\n",
        "    def Fahren(self):\n",
        "      temp = (self.t * 5/9) + 32\n",
        "      return temp\n",
        "\n",
        "# get input from the user\n",
        "Temp_t = float (input(\"Temperature (in Farenheit): \"))\n",
        "# objects\n",
        "object_t = Temperature(Temp_t)\n",
        "# call methods \n",
        "celcius = object_t.Celcius()\n",
        "# print converted temperatures\n",
        "print(\"Temperature in Celcius =\",round(celcius,2))\n",
        "\n",
        "\n",
        "Temp_T = float (input(\"Temperature (in Celcius): \"))\n",
        "object_T = Temperature(Temp_T)\n",
        "fahren = object_T.Fahren()\n",
        "print(\"Temperature in Fahrenheit =\",round(fahren,2))\n",
        "\n"
      ],
      "execution_count": null,
      "outputs": []
    },
    {
      "cell_type": "markdown",
      "metadata": {
        "id": "TGHkRQdQt8K1"
      },
      "source": [
        "3. Create a Student class and initialize it with name and roll number. Make methods to :\n",
        "\n",
        "Display - It should display all informations of the student.\n",
        "setAge - It should assign age to student\n",
        "setMarks - It should assign marks to the student."
      ]
    },
    {
      "cell_type": "code",
      "metadata": {
        "id": "juv81e5ZuvZz"
      },
      "source": [
        "class Student:\n",
        "  \n",
        "  def __init__(self, name = \"\", roll_number = 0, mark = 0):\n",
        "    self.name = name\n",
        "    self.roll_number = roll_number\n",
        "    self.mark = mark\n",
        "\n",
        "  def display(self):\n",
        "    print(f\"Student Infos| Name: {self.name}, Age: {self.roll_number}, Mark: {self.mark}\")\n",
        "\n",
        "  def setName(self):\n",
        "    self.name = str (input(\"What is your name? \"))\n",
        "\n",
        "  def setAge(self):\n",
        "    self.roll_number = int (input(\"What is your age? \"))\n",
        "\n",
        "  def setMarks(self):\n",
        "    self.mark = int (input(\"What is your mark? \"))\n",
        "\n",
        "\n",
        "object_student1 = Student()\n",
        "object_student1.setName()\n",
        "object_student1.setAge()\n",
        "object_student1.setMarks()\n",
        "object_student1.display()\n",
        "\n",
        "#polymorphism\n",
        "object_student2 = Student(\"ab\",23 ,44)\n",
        "object_student2.display()"
      ],
      "execution_count": null,
      "outputs": []
    },
    {
      "cell_type": "markdown",
      "metadata": {
        "id": "2HgbNzoxt81f"
      },
      "source": [
        "4. Create a Time class and initialize it with hours and minutes.\n",
        "\n",
        "Make a method addTime which should take two time object and add them. E.g.- (2 hour and 50 min)+(1 hr and 20 min) is (4 hr and 10 min)\n",
        "Make a method displayTime which should print the time.\n",
        "Make a method DisplayMinute which should display the total minutes in the Time. E.g.- (1 hr 2 min) should display 62 minute."
      ]
    },
    {
      "cell_type": "code",
      "metadata": {
        "id": "9iJNoOlQum-u"
      },
      "source": [
        "class  Time:\n",
        "\n",
        "    def __init__(self, hours1 = 0, minutes1 = 0,hours2 = 0, minutes2 = 0, t1 = 0, t2 = 0,t3 = 0, t4 = 0):\n",
        "        self.hours1 = hours1\n",
        "        self.minutes1 = minutes1\n",
        "        self.hours2 = hours2\n",
        "        self.minutes2 = minutes2\n",
        "        self.t1 = t1\n",
        "        self.t2 = t2\n",
        "        self.t3 = t3\n",
        "        self.t4 = t4\n",
        "   \n",
        "    def addTime(self):\n",
        "      self.hours1 = int(input(\"Enter the 1st hours: \"))\n",
        "      self.minutes1 = int(input(\"Enter the minutes for 1st hours: \"))\n",
        "      self.hours2 = int(input(\"\\nEnter the 2nd hours: \"))\n",
        "      self.minutes2 = int(input(\"Enter the minutes for 2nd hours: \"))\n",
        "      \n",
        "      self.t1 = self.hours1 * 60 # sum of hours\n",
        "      self.t2 = self.hours2 * 60\n",
        "\n",
        "    def displayTime(self):\n",
        "        print(\"\\n1st time is\",self.hours1,\"hr\",self.minutes1,\"minutes.\")\n",
        "        print(\"2nd time is\",self.hours2,\"hr\",self.minutes2,\"minutes.\")\n",
        "\n",
        "    def displayMinutes(self):\n",
        "      print(\"\\nThe total is:\",self.hours1 + self.hours2,\"hr\",self.minutes1 + self.minutes2,\"minutes\")\n",
        "      print(\"The total in minutes is:\",self.t1 + self.minutes1 + self.t2 + self.minutes2,\"minutes\")\n",
        "\n",
        "object_time = Time()\n",
        "object_time.addTime()\n",
        "object_time.displayTime()\n",
        "object_time.displayMinutes()"
      ],
      "execution_count": null,
      "outputs": []
    },
    {
      "cell_type": "code",
      "metadata": {
        "id": "u3Kt1dGC4_wW",
        "colab": {
          "base_uri": "https://localhost:8080/",
          "height": 86
        },
        "outputId": "4bc65e9f-f2a9-439d-da64-df39eb409afb"
      },
      "source": [
        "'''From  https://www.codesdope.com/discussion/how-to-add-two-classes/'''\n",
        "\n",
        "class  Time(object):\n",
        "\n",
        "    def __init__(self, hours, minutes):\n",
        "        self.hours = hours\n",
        "        self.minutes = minutes\n",
        "\n",
        "    def addTime(t1, t2):\n",
        "        t3 = Time(0, 0) # creating new object\n",
        "        t3.hours = t1.hours + t2.hours # sum of hours\n",
        "        t3.minutes = t1.minutes + t2.minutes # sum of minutes\n",
        "        while t3.minutes >= 60:\n",
        "            t3.hours += 1\n",
        "            t3.minutes -= 60\n",
        "        return t3\n",
        "\n",
        "    def displayTime(self):\n",
        "        print(\"Time is %d hours and %d minutes\" %(self.hours, self.minutes))\n",
        "\n",
        "    def displayMinutes(self):\n",
        "        print((self.hours * 60) + self.minutes, \"minutes\")\n",
        "\n",
        "a = Time(2, 90)\n",
        "b = Time(1, 90)\n",
        "c = Time.addTime(a,b)\n",
        "\n",
        "c.displayTime()\n",
        "c.displayMinutes()\n",
        "\n",
        "input()"
      ],
      "execution_count": 2,
      "outputs": [
        {
          "output_type": "stream",
          "text": [
            "Time is 6 hours and 0 minutes\n",
            "360 minutes\n",
            "88\n"
          ],
          "name": "stdout"
        },
        {
          "output_type": "execute_result",
          "data": {
            "application/vnd.google.colaboratory.intrinsic+json": {
              "type": "string"
            },
            "text/plain": [
              "'88'"
            ]
          },
          "metadata": {
            "tags": []
          },
          "execution_count": 2
        }
      ]
    }
  ]
}