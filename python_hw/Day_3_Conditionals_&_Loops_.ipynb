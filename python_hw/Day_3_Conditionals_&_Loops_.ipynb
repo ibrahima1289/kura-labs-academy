{
  "nbformat": 4,
  "nbformat_minor": 0,
  "metadata": {
    "celltoolbar": "Slideshow",
    "kernelspec": {
      "display_name": "Python 3",
      "language": "python",
      "name": "python3"
    },
    "language_info": {
      "codemirror_mode": {
        "name": "ipython",
        "version": 3
      },
      "file_extension": ".py",
      "mimetype": "text/x-python",
      "name": "python",
      "nbconvert_exporter": "python",
      "pygments_lexer": "ipython3",
      "version": "3.7.4"
    },
    "colab": {
      "name": "Day 3-Conditionals & Loops .ipynb",
      "provenance": [],
      "include_colab_link": true
    }
  },
  "cells": [
    {
      "cell_type": "markdown",
      "metadata": {
        "id": "view-in-github",
        "colab_type": "text"
      },
      "source": [
        "<a href=\"https://colab.research.google.com/github/ibrahima1289/Python-Codes/blob/main/kura%20labs/Day_3_Conditionals_%26_Loops_.ipynb\" target=\"_parent\"><img src=\"https://colab.research.google.com/assets/colab-badge.svg\" alt=\"Open In Colab\"/></a>"
      ]
    },
    {
      "cell_type": "markdown",
      "metadata": {
        "id": "eSxbk7VDNjz_"
      },
      "source": [
        "# Conditionals"
      ]
    },
    {
      "cell_type": "markdown",
      "metadata": {
        "id": "fkX5n0o0Nj0B"
      },
      "source": [
        "## Overview\n",
        "- (Need to know) Indentation in Python\n",
        "- What are conditional statements? Why do we need them?\n",
        "- If statements in Python\n",
        "- Why, Why not Loops?\n",
        "- Loops in Python\n",
        "- Exercises"
      ]
    },
    {
      "cell_type": "markdown",
      "metadata": {
        "id": "36fLQ3bdNj0C"
      },
      "source": [
        "# [Tabs vs Spaces](https://www.youtube.com/watch?v=SsoOG6ZeyUI)\n",
        "(Worth Watching)"
      ]
    },
    {
      "cell_type": "markdown",
      "metadata": {
        "id": "O2SN4uFcNj0C"
      },
      "source": [
        "## Indentation in Python\n",
        "- Indentation has a very specific role in Python and is **important!**\n",
        "- It is used as alternative to parenthesis, and getting it wrong will cause errors. \n",
        "- Python 3 allows 4 spaces or tabs, but not both. [But in working in Jupyter seems to work fine.]\n",
        "- In Python, spaces are preferred according to the [PEP 8 style guide](https://www.python.org/dev/peps/pep-0008/).\n",
        "\n"
      ]
    },
    {
      "cell_type": "markdown",
      "metadata": {
        "id": "gcQHZ8oONj0C"
      },
      "source": [
        "# What are conditional statements? Why do we need them?"
      ]
    },
    {
      "cell_type": "markdown",
      "metadata": {
        "id": "v-oPaBJENj0D"
      },
      "source": [
        "## `if` Statements\n",
        "- Enables logical branching and recoding of data.\n",
        "- BUT, `if statements` can result in long code branches, repeated code.\n",
        "- Best to keep if statements short.\n",
        "- Keep in mind the [Zen of Python](https://www.python.org/dev/peps/pep-0020/) when writing if statements.  "
      ]
    },
    {
      "cell_type": "markdown",
      "metadata": {
        "id": "Mba9R6swNj0D"
      },
      "source": [
        "## Conditional Statements and Indentation\n",
        "- The syntax for control structures in Python use _colons_ and _indentation_.\n",
        "- Beware that indentation affects flow.\n",
        "- `if` statement starts the comparison. \n",
        "- `elif` give additional conditions.\n",
        "- `else` gives what to do if other conditions are not met."
      ]
    },
    {
      "cell_type": "code",
      "metadata": {
        "id": "O7vHvaiINj0D",
        "outputId": "8f193183-6a80-4b25-b7d6-b4f6a4e6e854",
        "colab": {
          "base_uri": "https://localhost:8080/"
        }
      },
      "source": [
        "y = 5\n",
        "x = 3\n",
        "if x > 0:\n",
        "    print ('x is strictly positive')\n",
        "    print (x)    \n",
        "print ('Finished.', x, y)\n",
        "x"
      ],
      "execution_count": 1,
      "outputs": [
        {
          "output_type": "stream",
          "text": [
            "x is strictly positive\n",
            "3\n",
            "Finished. 3 5\n"
          ],
          "name": "stdout"
        },
        {
          "output_type": "execute_result",
          "data": {
            "text/plain": [
              "3"
            ]
          },
          "metadata": {
            "tags": []
          },
          "execution_count": 1
        }
      ]
    },
    {
      "cell_type": "code",
      "metadata": {
        "id": "VQ6h5fdqNj0F",
        "outputId": "cf6dbe66-cc4d-46c4-f497-cc5faf0b3251"
      },
      "source": [
        "x = 1\n",
        "y = 0\n",
        "if x > 0:\n",
        "    print('x is greater than 0')\n",
        "    if y > 0:\n",
        "        print('& y is also greater than 0')\n",
        "    elif y < 0:\n",
        "        print('& y is  0')\n",
        "    else:\n",
        "        print ('& y is equal 0')\n",
        "print (\"x: \",x)\n",
        "print ('Finished.')"
      ],
      "execution_count": null,
      "outputs": [
        {
          "output_type": "stream",
          "text": [
            "x is greater than 0\n",
            "& y is equal 0\n",
            "x:  1\n",
            "Finished.\n"
          ],
          "name": "stdout"
        }
      ]
    },
    {
      "cell_type": "code",
      "metadata": {
        "id": "Ku0g5CagNj0F",
        "outputId": "bbde62df-9652-4c8f-c80b-8364d56e13df"
      },
      "source": [
        "x > 0"
      ],
      "execution_count": null,
      "outputs": [
        {
          "output_type": "execute_result",
          "data": {
            "text/plain": [
              "True"
            ]
          },
          "metadata": {
            "tags": []
          },
          "execution_count": 10
        }
      ]
    },
    {
      "cell_type": "code",
      "metadata": {
        "id": "6j6WVFOgNj0G",
        "outputId": "90785e6a-5e0b-4735-ae62-69c1ed94cce6"
      },
      "source": [
        "x != 5 or "
      ],
      "execution_count": null,
      "outputs": [
        {
          "output_type": "execute_result",
          "data": {
            "text/plain": [
              "True"
            ]
          },
          "metadata": {
            "tags": []
          },
          "execution_count": 11
        }
      ]
    },
    {
      "cell_type": "code",
      "metadata": {
        "id": "QbUkVPYwNj0G",
        "outputId": "672fbd0b-fda7-4d6c-f234-7aa79a5c711c"
      },
      "source": [
        "x = 5\n",
        "x"
      ],
      "execution_count": null,
      "outputs": [
        {
          "output_type": "execute_result",
          "data": {
            "text/plain": [
              "5"
            ]
          },
          "metadata": {
            "tags": []
          },
          "execution_count": 15
        }
      ]
    },
    {
      "cell_type": "markdown",
      "metadata": {
        "id": "grLHpjxqNj0G"
      },
      "source": [
        "## Python Logic and Conditions\n",
        "- Less than\t<\n",
        "- Greater than\t\t>\n",
        "- Less than or equal\t≤\t<=\n",
        "- Greater than or equal >=\n",
        "- Equals\t==\n",
        "- Not equal\t!=\n",
        "- `and` can be used to put multiple logical expressions together.\n",
        "- `or` can be used to put multiple logical expressions together."
      ]
    },
    {
      "cell_type": "code",
      "metadata": {
        "id": "QD048690Nj0G",
        "outputId": "9e12d16f-80d1-4fe4-e399-0513e9cf7fa3"
      },
      "source": [
        "x = -1\n",
        "y = 1\n",
        "if x >= 0 and y >= 0:\n",
        "    print ('x and y are greater than 0 or 0')\n",
        "elif  x >= 0 or y >= 0:\n",
        "    if x > 0:\n",
        "        print ('x is greater than 0')\n",
        "    else:\n",
        "        print ('y is greater than 0')\n",
        "else:\n",
        "    print ('neither x nor y greater than 0')\n"
      ],
      "execution_count": null,
      "outputs": [
        {
          "output_type": "stream",
          "text": [
            "y is greater than 0\n"
          ],
          "name": "stdout"
        }
      ]
    },
    {
      "cell_type": "markdown",
      "metadata": {
        "id": "boTaNa1oNj0H"
      },
      "source": [
        "## Python Conditionals (Alt Syntax) \n",
        "- Clean syntax doesn't get complex branching \n",
        "- Python ternary conditional operator `(falseValue, trueValue)[<logicalTest>]`\n",
        "- Lambda Functions as if statement."
      ]
    },
    {
      "cell_type": "code",
      "metadata": {
        "id": "KU_tWiavNj0H",
        "outputId": "4826f9de-2fe7-4173-9b2c-c5cde5a4a0b9"
      },
      "source": [
        "x=0\n",
        "z = 5 if x > 0 else 0\n",
        "print(z)"
      ],
      "execution_count": null,
      "outputs": [
        {
          "output_type": "stream",
          "text": [
            "0\n"
          ],
          "name": "stdout"
        }
      ]
    },
    {
      "cell_type": "code",
      "metadata": {
        "id": "2dIDKRR5Nj0H",
        "outputId": "8b03f1f0-14da-46db-9134-3579644714af"
      },
      "source": [
        "# This is a form of if statement called ternary conditional operator \n",
        "x=1\n",
        "#The first value is the value if the conditional is false\n",
        "z=(0, 5)[x>0]\n",
        "print(z)"
      ],
      "execution_count": null,
      "outputs": [
        {
          "output_type": "stream",
          "text": [
            "5\n"
          ],
          "name": "stdout"
        }
      ]
    },
    {
      "cell_type": "markdown",
      "metadata": {
        "id": "XjBvlMbPNj0I"
      },
      "source": [
        "# Why, Why Not Loops?"
      ]
    },
    {
      "cell_type": "markdown",
      "metadata": {
        "id": "m1NHIhdPNj0I"
      },
      "source": [
        "## Why, Why Not Loops?\n",
        "- Iterate over arrays or lists easily. `for` or `while` loops can be nested.\n",
        "- BUT, in many cases for loops don't scale well and are slower than alternate methods involving functions. \n",
        "- BUT, don't worry about prematurely optimizing code.\n",
        "- Often if you are doing a loop, there is a function that is faster.  You might not care for small data applications.\n",
        "- Keep in mind the [Zen of Python](https://www.python.org/dev/peps/pep-0020/#id3) when writing `for` statements."
      ]
    },
    {
      "cell_type": "code",
      "metadata": {
        "id": "Nfuf85aFNj0I",
        "outputId": "ba094ccc-dfc0-4253-f084-f25791b2fe15"
      },
      "source": [
        "#Here we are iterating on lists.\n",
        "sum=0\n",
        "for ad in [1, 2, 3]: \n",
        "    sum+=ad    #This is short hand for sum = sum+ad\n",
        "    print(sum) \n",
        "    \n",
        "for country in ['England', 'Spain', 'India']:\n",
        "    print(country)"
      ],
      "execution_count": null,
      "outputs": [
        {
          "output_type": "stream",
          "text": [
            "1\n",
            "3\n",
            "6\n",
            "England\n",
            "Spain\n",
            "India\n"
          ],
          "name": "stdout"
        }
      ]
    },
    {
      "cell_type": "code",
      "metadata": {
        "id": "z1DS7ktUNj0I",
        "outputId": "bb056dda-b0c4-445b-fe69-7b367ed59d12"
      },
      "source": [
        "x=[0,1,2]\n",
        "y=['a','b','c']\n",
        "#Nested for loops\n",
        "for a in x:\n",
        "    for b in y:\n",
        "        print(a,b)\n"
      ],
      "execution_count": null,
      "outputs": [
        {
          "output_type": "stream",
          "text": [
            "0 a\n",
            "0 b\n",
            "0 c\n",
            "1 a\n",
            "1 b\n",
            "1 c\n",
            "2 a\n",
            "2 b\n",
            "2 c\n"
          ],
          "name": "stdout"
        }
      ]
    },
    {
      "cell_type": "markdown",
      "metadata": {
        "id": "Rfz-mxDANj0J"
      },
      "source": [
        "## The `for` Loop\n",
        "- Can accept a `range(start, stop, step)` or `range(stop)` object\n",
        "- Can break out of it with a `break` command"
      ]
    },
    {
      "cell_type": "code",
      "metadata": {
        "id": "ZUVt5OtkNj0J",
        "outputId": "568bcea7-566f-4816-fd91-ba619457e60a"
      },
      "source": [
        "z=range(5)\n",
        "z"
      ],
      "execution_count": null,
      "outputs": [
        {
          "output_type": "execute_result",
          "data": {
            "text/plain": [
              "range(0, 5)"
            ]
          },
          "metadata": {
            "tags": []
          },
          "execution_count": 21
        }
      ]
    },
    {
      "cell_type": "code",
      "metadata": {
        "id": "OfpkGmr2Nj0J",
        "outputId": "e93fbd85-2bca-455e-e282-8eb99a2cff78"
      },
      "source": [
        "#Range is a built in function that can be passed to a for loop\n",
        "#https://docs.python.org/3/library/functions.html#func-range\n",
        "#Range accepts a number and a (start/stop/step) like the arrange command.\n",
        "z=range(5)\n",
        "print(z, type(z))\n",
        "#Range\n",
        "for i in z:\n",
        "    print('Printing ten')\n",
        "for i in range(5):\n",
        "    print('Print five more')\n",
        "for i in range(5,20,2):\n",
        "    print('i: %d is the value' % (i)) \n",
        "    print(f'i:{i}  is the value' ) #This is an alternate way of embedding values in text."
      ],
      "execution_count": null,
      "outputs": [
        {
          "output_type": "stream",
          "text": [
            "range(0, 5) <class 'range'>\n",
            "Printing ten\n",
            "Printing ten\n",
            "Printing ten\n",
            "Printing ten\n",
            "Printing ten\n",
            "Print five more\n",
            "Print five more\n",
            "Print five more\n",
            "Print five more\n",
            "Print five more\n",
            "i: 5 is the value\n",
            "i:5  is the value\n",
            "i: 7 is the value\n",
            "i:7  is the value\n",
            "i: 9 is the value\n",
            "i:9  is the value\n",
            "i: 11 is the value\n",
            "i:11  is the value\n",
            "i: 13 is the value\n",
            "i:13  is the value\n",
            "i: 15 is the value\n",
            "i:15  is the value\n",
            "i: 17 is the value\n",
            "i:17  is the value\n",
            "i: 19 is the value\n",
            "i:19  is the value\n"
          ],
          "name": "stdout"
        }
      ]
    },
    {
      "cell_type": "code",
      "metadata": {
        "id": "pibIGtAINj0J",
        "outputId": "a0ff854b-46e4-4b9d-fba6-ee008f8c0ad7"
      },
      "source": [
        "#Sometimes you need to break out of a loop\n",
        "for x in range(3):\n",
        "    print('x:',x)\n",
        "    if x == 2:\n",
        "        break\n"
      ],
      "execution_count": null,
      "outputs": [
        {
          "output_type": "stream",
          "text": [
            "x: 0\n",
            "x: 1\n",
            "x: 2\n"
          ],
          "name": "stdout"
        }
      ]
    },
    {
      "cell_type": "markdown",
      "metadata": {
        "id": "F8Nwc-YSNj0K"
      },
      "source": [
        "### List, Set, and Dict Comprehension (Fancy for Loops)\n",
        "- Python has a special way of compressing list building to a single line. \n",
        "- Set Comprehension is very similar, but with the `{` bracket.\n",
        "- Can incorporate conditionals. \n",
        "- S\n"
      ]
    },
    {
      "cell_type": "code",
      "metadata": {
        "id": "uYJrPggVNj0K",
        "outputId": "5ed82540-11d1-4d5e-ca69-7db0df6a0a44"
      },
      "source": [
        "#This is the long way of building lists.\n",
        "L = []\n",
        "for n in range(10):\n",
        "    L.append(n ** 2)\n",
        "L"
      ],
      "execution_count": null,
      "outputs": [
        {
          "output_type": "execute_result",
          "data": {
            "text/plain": [
              "[0, 1, 4, 9, 16, 25, 36, 49, 64, 81]"
            ]
          },
          "metadata": {
            "tags": []
          },
          "execution_count": 26
        }
      ]
    },
    {
      "cell_type": "code",
      "metadata": {
        "id": "vmQE_JTGNj0K",
        "outputId": "692c350f-0bc8-4e2b-93f5-6c5f9975b535"
      },
      "source": [
        "#With list comprehension.  \n",
        "L=[n ** 2 for n in range(10)]\n",
        "L"
      ],
      "execution_count": null,
      "outputs": [
        {
          "output_type": "execute_result",
          "data": {
            "text/plain": [
              "[0, 1, 4, 9, 16, 25, 36, 49, 64, 81]"
            ]
          },
          "metadata": {
            "tags": []
          },
          "execution_count": 22
        }
      ]
    },
    {
      "cell_type": "code",
      "metadata": {
        "id": "Q7scOgHuNj0K",
        "outputId": "862959af-91ee-44e6-a33f-6c5f75f43673"
      },
      "source": [
        "#Any actions are on left side, any conditionals on right side \n",
        "[i for i in range(20) if i % 3 == 0]"
      ],
      "execution_count": null,
      "outputs": [
        {
          "output_type": "execute_result",
          "data": {
            "text/plain": [
              "[0, 3, 6, 9, 12, 15, 18]"
            ]
          },
          "metadata": {
            "tags": []
          },
          "execution_count": 28
        }
      ]
    },
    {
      "cell_type": "markdown",
      "metadata": {
        "id": "gP-qzS9zNj0L"
      },
      "source": [
        "### Multiple Interators\n",
        "- Iterating on multiple values"
      ]
    },
    {
      "cell_type": "code",
      "metadata": {
        "id": "81XhKUPHNj0L",
        "outputId": "13713e06-f498-46b5-f33d-94a0e2bc5593"
      },
      "source": [
        "[(i, j) for i in range(2) for j in range(3)]"
      ],
      "execution_count": null,
      "outputs": [
        {
          "output_type": "execute_result",
          "data": {
            "text/plain": [
              "[(0, 0), (0, 1), (0, 2), (1, 0), (1, 1), (1, 2)]"
            ]
          },
          "metadata": {
            "tags": []
          },
          "execution_count": 29
        }
      ]
    },
    {
      "cell_type": "markdown",
      "metadata": {
        "id": "iFhFUbxvNj0L"
      },
      "source": [
        "### Set Comprehension\n",
        "- Remember sets must have unique values."
      ]
    },
    {
      "cell_type": "code",
      "metadata": {
        "id": "W-mO_1yMNj0L",
        "outputId": "d0b91970-bba0-401e-a9b2-83011f21edf2"
      },
      "source": [
        "#We can change it to a setby just changing the brackets.\n",
        "{n**2 for n in range(6)}"
      ],
      "execution_count": null,
      "outputs": [
        {
          "output_type": "execute_result",
          "data": {
            "text/plain": [
              "{0, 1, 4, 9, 16, 25}"
            ]
          },
          "metadata": {
            "tags": []
          },
          "execution_count": 30
        }
      ]
    },
    {
      "cell_type": "markdown",
      "metadata": {
        "id": "Uy2LBtCjNj0M"
      },
      "source": [
        "### Dict Comprehension\n",
        "- Remember sets must have unique values."
      ]
    },
    {
      "cell_type": "code",
      "metadata": {
        "id": "yBNsV7krNj0M",
        "outputId": "ce09b1ac-cc2b-4dc4-987f-0e46619696ad"
      },
      "source": [
        "#We can change it to a dictionary by just changing the brackets and adding a colon.\n",
        "{n:n**2 for n in range(6)}"
      ],
      "execution_count": null,
      "outputs": [
        {
          "output_type": "execute_result",
          "data": {
            "text/plain": [
              "{0: 0, 1: 1, 2: 4, 3: 9, 4: 16, 5: 25}"
            ]
          },
          "metadata": {
            "tags": []
          },
          "execution_count": 30
        }
      ]
    },
    {
      "cell_type": "markdown",
      "metadata": {
        "id": "g6IFS0Z8Nj0M"
      },
      "source": [
        "## While Loops\n",
        "- Performs a loop while a conditional is True.\n",
        "- Doesn't auto-increment.\n"
      ]
    },
    {
      "cell_type": "code",
      "metadata": {
        "id": "83AW-KEUNj0M",
        "outputId": "ccbf247f-64df-4e7a-f1ea-39ee9ad26edc"
      },
      "source": [
        "# While loop is a very interesting \n",
        "x = 1\n",
        "sum=0\n",
        "while x<10:\n",
        "    print (\"Printing x= %d sum= %d\" % (x, sum)) #Note this alternate way of specufiy\n",
        "    x += 1\n",
        "    sum+=10"
      ],
      "execution_count": null,
      "outputs": [
        {
          "output_type": "stream",
          "text": [
            "Printing x= 1 sum= 0\n",
            "Printing x= 2 sum= 10\n",
            "Printing x= 3 sum= 20\n",
            "Printing x= 4 sum= 30\n",
            "Printing x= 5 sum= 40\n",
            "Printing x= 6 sum= 50\n",
            "Printing x= 7 sum= 60\n",
            "Printing x= 8 sum= 70\n",
            "Printing x= 9 sum= 80\n"
          ],
          "name": "stdout"
        }
      ]
    },
    {
      "cell_type": "markdown",
      "metadata": {
        "id": "W_ApLJvNNj0M"
      },
      "source": [
        "## Recoding Variables/Creating Features with `for/if`\n",
        "- Often we want to recode data applying some type of conditional statement to each value of a series, list, or column of a data frame.\n",
        "- [Regular Expressions](https://docs.python.org/3/howto/regex.html) can be useful in recoding "
      ]
    },
    {
      "cell_type": "code",
      "metadata": {
        "id": "jXovGboMNj0N",
        "outputId": "1d5e9541-30d0-4673-caf9-79609eebdb05",
        "colab": {
          "base_uri": "https://localhost:8080/"
        }
      },
      "source": [
        "#Titanic Preview Women and Children first\n",
        "\n",
        "gender=['Female', 'Female','Female', 'Male', 'Male', 'Male' ]\n",
        "age=[75, 45, 15, 1, 45, 4 ]\n",
        "name = ['Ms. Sally White', 'Mrs. Susan King', 'Amanda Russ', 'Rev. John Smith' ]\n",
        "survived=[]\n",
        "for i in range(len(gender)):\n",
        "#This is encoding a simple model that women survived.  \n",
        "    if gender[i]=='Female':\n",
        "        survived.append('Survived')\n",
        "    else:\n",
        "        survived.append('Died')      \n",
        "print(survived)\n",
        "        \n",
        "#BUT, we won't typically be using this type of recoding, so we aren't going to do a lot of exercises on it.     "
      ],
      "execution_count": 2,
      "outputs": [
        {
          "output_type": "stream",
          "text": [
            "['Survived', 'Survived', 'Survived', 'Died', 'Died', 'Died']\n"
          ],
          "name": "stdout"
        }
      ]
    },
    {
      "cell_type": "markdown",
      "metadata": {
        "id": "qAnDblLkNj0N"
      },
      "source": [
        "Copyright [AnalyticsDojo](http://rpi.analyticsdojo.com) 2016.\n",
        "This work is licensed under the [Creative Commons Attribution 4.0 International](https://creativecommons.org/licenses/by/4.0/) license agreement.\n",
        "Adopted from [materials](https://github.com/phelps-sg/python-bigdata) Copyright [Steve Phelps](http://sphelps.net) 2014"
      ]
    }
  ]
}