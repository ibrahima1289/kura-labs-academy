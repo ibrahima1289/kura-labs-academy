{
  "nbformat": 4,
  "nbformat_minor": 0,
  "metadata": {
    "colab": {
      "name": "Lecture1_Kura.ipynb",
      "provenance": [],
      "include_colab_link": true
    },
    "kernelspec": {
      "name": "python3",
      "display_name": "Python 3"
    },
    "language_info": {
      "name": "python"
    }
  },
  "cells": [
    {
      "cell_type": "markdown",
      "metadata": {
        "id": "view-in-github",
        "colab_type": "text"
      },
      "source": [
        "<a href=\"https://colab.research.google.com/github/ibrahima1289/Python-Codes/blob/main/kura%20labs/Lecture1_Kura.ipynb\" target=\"_parent\"><img src=\"https://colab.research.google.com/assets/colab-badge.svg\" alt=\"Open In Colab\"/></a>"
      ]
    },
    {
      "cell_type": "markdown",
      "metadata": {
        "id": "EHZJTFE_36Gp"
      },
      "source": [
        "**Class Challenges (Set One)** **Fundamentals **"
      ]
    },
    {
      "cell_type": "markdown",
      "metadata": {
        "id": "bktzR4Z94AIu"
      },
      "source": [
        "1)\n",
        "Ask for the user’s first name and display the output message\n",
        "Hello [First Name] .\n",
        "\n"
      ]
    },
    {
      "cell_type": "code",
      "metadata": {
        "id": "D1zL4j785bH8"
      },
      "source": [
        "first_name = input('What is your first name? ')\n",
        "print('Hello ' + first_name + '!')"
      ],
      "execution_count": null,
      "outputs": []
    },
    {
      "cell_type": "markdown",
      "metadata": {
        "id": "P7iZQrUL4QpW"
      },
      "source": [
        "2)\n",
        "Ask for the user’s first name and then ask for their surname and display the output message\n",
        "Hello [First Name] [Surname].\n",
        "\n",
        "\n",
        "\n",
        "\n",
        "\n",
        "\n",
        "\n",
        "\n"
      ]
    },
    {
      "cell_type": "code",
      "metadata": {
        "id": "V8luoi1c5dG7"
      },
      "source": [
        "first_name = input('What is your first name? ')\n",
        "sur_name = input('What is your surname name? ')\n",
        "print(first_name +' '+ sur_name)"
      ],
      "execution_count": null,
      "outputs": []
    },
    {
      "cell_type": "markdown",
      "metadata": {
        "id": "LUmlLu2v4gp2"
      },
      "source": [
        "3)\n",
        "Write code that will display the joke “What do you call a bear with no teeth?” and on the next line display the answer “A gummy bear!” Try to create it using only one line of code.\n",
        "\n"
      ]
    },
    {
      "cell_type": "code",
      "metadata": {
        "id": "qU6oaxlK5emZ",
        "outputId": "3b4fbd4f-94a8-4aa8-b0fd-9d14190d51a2",
        "colab": {
          "base_uri": "https://localhost:8080/"
        }
      },
      "source": [
        "print('What do you call a bear with no teeth? \\n\\nA gummy bear!' )"
      ],
      "execution_count": 8,
      "outputs": [
        {
          "output_type": "stream",
          "text": [
            "What do you call a bear with no teeth? \n",
            "\n",
            "A gummy bear!\n"
          ],
          "name": "stdout"
        }
      ]
    },
    {
      "cell_type": "markdown",
      "metadata": {
        "id": "jwD8SJa54nAM"
      },
      "source": [
        "4)\n",
        "Ask the user to enter two numbers. \n",
        "Add them together and display the answer as\n",
        "The total is [answer].\n",
        "\n"
      ]
    },
    {
      "cell_type": "code",
      "metadata": {
        "id": "nLAQQCD15fAg"
      },
      "source": [
        "x = int(input('Enter the 1st number: '))\n",
        "y = int(input('Enter the 2nd number: '))\n",
        "answer = x + y\n",
        "print('The answer as the total is: ',answer)"
      ],
      "execution_count": null,
      "outputs": []
    },
    {
      "cell_type": "markdown",
      "metadata": {
        "id": "1E7CC19l4rb5"
      },
      "source": [
        "5)\n",
        "Ask the user to enter three numbers. \n",
        "Add together the first two numbers and then multiply this total by the third. \n",
        "Display the answer as The answer is\n",
        "[answer].\n",
        "\n",
        "\n"
      ]
    },
    {
      "cell_type": "code",
      "metadata": {
        "id": "fBWCQ3FY5uVo"
      },
      "source": [
        "x = int(input('Enter the 1st number: '))\n",
        "y = int(input('Enter the 2nd number: '))\n",
        "z = int(input('Enter the 3rd number: '))\n",
        "\n",
        "add_two_first = x + y\n",
        "print('The sum of the two first numbers is: ',add_two_first)\n",
        "\n",
        "prod_wth_third = z * add_two_first\n",
        "print('The answer as the total is: ',prod_wth_third)"
      ],
      "execution_count": null,
      "outputs": []
    },
    {
      "cell_type": "markdown",
      "metadata": {
        "id": "oEQpSy3Y40ML"
      },
      "source": [
        "6) \n",
        "Ask how many slices of pizza the user started with and ask how many slices\n",
        "they have eaten.\n",
        "Work out how many slices they have left and display the answer in a user friendly\n",
        "format.\n",
        "\n"
      ]
    },
    {
      "cell_type": "code",
      "metadata": {
        "id": "6AAC55oy5roU",
        "outputId": "ef6db2b6-c66b-4841-c2b1-224d77ca6c2e",
        "colab": {
          "base_uri": "https://localhost:8080/"
        }
      },
      "source": [
        "strted = int(input('How many slices you started with? '))\n",
        "eaten = int(input('How many slices you ate? '))\n",
        "print('You only left me ', strted-eaten,'\\U0001F620?')"
      ],
      "execution_count": 24,
      "outputs": [
        {
          "output_type": "stream",
          "text": [
            "How many slices you started with? 66\n",
            "How many slices you ate? 55\n",
            "You only left me  11 😠?\n"
          ],
          "name": "stdout"
        }
      ]
    },
    {
      "cell_type": "markdown",
      "metadata": {
        "id": "db2fa_SS46yT"
      },
      "source": [
        "7)\n",
        "Ask the user for their name and their age. \n",
        "Add 1 to their age and display the output [Name] next birthday you\n",
        "will be [new age].\n",
        "\n"
      ]
    },
    {
      "cell_type": "code",
      "metadata": {
        "id": "Hy--PVwx5m_8",
        "outputId": "d7df2f92-d99b-4b4b-f891-4a78918c4e41",
        "colab": {
          "base_uri": "https://localhost:8080/"
        }
      },
      "source": [
        "Name = input('What is your name? ')\n",
        "age = int(input('What is your age? '))\n",
        "age += 1\n",
        "print(Name + ',', 'you will be ',age, ' years old at your next birthday.')"
      ],
      "execution_count": 21,
      "outputs": [
        {
          "output_type": "stream",
          "text": [
            "What is your name? abe\n",
            "What is your age? 3\n",
            "abe, you will be  4  years old at your next birthday.\n"
          ],
          "name": "stdout"
        }
      ]
    },
    {
      "cell_type": "markdown",
      "metadata": {
        "id": "wK4e2WBH5AMy"
      },
      "source": [
        "8) \n",
        "Ask for the total price of the bill, then ask how many diners there are. \n",
        "Divide the total bill by the number of diners and show how much each\n",
        "a person must pay.\n",
        "\n"
      ]
    },
    {
      "cell_type": "code",
      "metadata": {
        "id": "3tI9k_bL5oCS",
        "outputId": "e107159d-652e-462c-c826-c171ea13dd92",
        "colab": {
          "base_uri": "https://localhost:8080/"
        }
      },
      "source": [
        "bill = float(input('What is the total price of then dinner? '))\n",
        "dinners = int(input('How many dinners are there? '))\n",
        "print('Everyone should pay ',round(bill/dinners,2), 'dollars. :)')"
      ],
      "execution_count": 2,
      "outputs": [
        {
          "output_type": "stream",
          "text": [
            "What is the total price of then dinner? 546\n",
            "How many dinners are there? 55\n",
            "Everyone should pay  9.93 dollars. :)\n"
          ],
          "name": "stdout"
        }
      ]
    },
    {
      "cell_type": "markdown",
      "metadata": {
        "id": "ZQBlnJm45DaL"
      },
      "source": [
        "9)\n",
        "Write a program that will ask for a number of days and then will show how many hours, minutes and seconds are in that number of days.\n",
        "\n"
      ]
    },
    {
      "cell_type": "code",
      "metadata": {
        "id": "w01EtoO85pBm"
      },
      "source": [
        "days = int(input('What is the number of days? '))\n",
        "print('In', days, 'days, we have', (24*days), 'hours :', (1440*days), 'minutes :', (86400*days), 'seconds.')"
      ],
      "execution_count": null,
      "outputs": []
    },
    {
      "cell_type": "markdown",
      "metadata": {
        "id": "5EOuJ5W75GF_"
      },
      "source": [
        "10)\n",
        "There are 2,204 pounds in a kilogram. Ask the user to enter a weight in kilograms and convert it to pounds.\n",
        "\n"
      ]
    },
    {
      "cell_type": "code",
      "metadata": {
        "id": "nz73-SQM5ou1",
        "outputId": "a56b88ec-0c58-4524-c1ab-327a89ff8f18",
        "colab": {
          "base_uri": "https://localhost:8080/"
        }
      },
      "source": [
        "weight_kg = input('What the weight in kilogram (kg)? ')\n",
        "weight_lbs = float(weight_kg)*2.204\n",
        "\n",
        "print('The weight in pound is', round(weight_lbs,2),'lbs.')"
      ],
      "execution_count": 3,
      "outputs": [
        {
          "output_type": "stream",
          "text": [
            "What the weight in kilogram (kg)? 70\n",
            "The weight in pound is 154.28 lbs.\n"
          ],
          "name": "stdout"
        }
      ]
    },
    {
      "cell_type": "markdown",
      "metadata": {
        "id": "km3HSOtk5N5B"
      },
      "source": [
        "11) \n",
        "Task the user to enter a number over 100 and then enter a number under 10 and tell them how many times the smaller number goes into the larger number in a user-friendly format.\n"
      ]
    },
    {
      "cell_type": "code",
      "metadata": {
        "id": "sPempIqj5i79",
        "outputId": "b25dd9e4-8dff-4f8b-80f1-cf7a61d275e3",
        "colab": {
          "base_uri": "https://localhost:8080/"
        }
      },
      "source": [
        "Big_num = float(input('Enter a number over 100: '))\n",
        "Small_num = float(input('My number (smaller than 10): '))\n",
        "\n",
        "print('The number',Small_num,'goes',Big_num//Small_num,'times into',Big_num,'- with a remainder of',Big_num%Small_num,'.')"
      ],
      "execution_count": 2,
      "outputs": [
        {
          "output_type": "stream",
          "text": [
            "Enter a number over 100: 500\n",
            "My number (smaller than 10): 9\n",
            "The number 9.0 goes 55.0 times into 500.0 - with a remainder of 5.0 .\n"
          ],
          "name": "stdout"
        }
      ]
    },
    {
      "cell_type": "markdown",
      "metadata": {
        "id": "UydxzJKq5-Li"
      },
      "source": [
        "# Class Challenge (Set 2) If Statements \n"
      ]
    },
    {
      "cell_type": "markdown",
      "metadata": {
        "id": "SfQmyzbC6K3o"
      },
      "source": [
        "1)\n",
        "Ask for two numbers. If\n",
        "the first one is larger\n",
        "than the second, display\n",
        "the second number first\n",
        "and then the first\n",
        "number, otherwise show\n",
        "the first number first and\n",
        "then the second.\n"
      ]
    },
    {
      "cell_type": "code",
      "metadata": {
        "id": "Tri19y_yRwWv"
      },
      "source": [
        "num1 = int(input('What is the first number? '))\n",
        "num2 = int(input('What is the second number? '))\n",
        "\n",
        "if (num1 > num2):\n",
        "  print('The second number',num2,'comes first.\\nThe first number',num1,'comes after.')\n",
        "else:\n",
        "  if (num1 == num2):\n",
        "    print('The numbers are equal.')\n",
        "  else:\n",
        "    print('The first number',num1,'comes first.\\nThe second number',num2,'comes after.')"
      ],
      "execution_count": null,
      "outputs": []
    },
    {
      "cell_type": "markdown",
      "metadata": {
        "id": "LWbTEnIK6fed"
      },
      "source": [
        "2) Ask the user to enter a\n",
        "number that is under 20. If they enter a\n",
        "number that is \n",
        "20 or\n",
        "more, display the\n",
        "message “Too high”,\n",
        "otherwise display\n",
        "“Thank you”.\n"
      ]
    },
    {
      "cell_type": "code",
      "metadata": {
        "id": "JIIlwj0nVop3"
      },
      "source": [
        "n = int(input('Enter a number that is under 20: '))\n",
        "\n",
        "if (n >= 20):\n",
        "  print('Too high!!!')\n",
        "else:\n",
        "  print('Thank you.')"
      ],
      "execution_count": null,
      "outputs": []
    },
    {
      "cell_type": "markdown",
      "metadata": {
        "id": "gBy4pbDr6rB2"
      },
      "source": [
        "3) Ask the user to enter a\n",
        "number between 10 and 20\n",
        "(inclusive). If they enter a\n",
        "number within this range,\n",
        "display the message “Thank\n",
        "you”, otherwise display the\n",
        "message “Incorrect answer\"\n"
      ]
    },
    {
      "cell_type": "code",
      "metadata": {
        "id": "-PRKkPlfXbEY"
      },
      "source": [
        "N = int(input('Enter a number that is between 10 and 20 (inclusive): '))\n",
        "\n",
        "if (N >= 10 and N <= 20):\n",
        "  print('Thank you.')\n",
        "else:\n",
        "  print('Incorrect answer.')"
      ],
      "execution_count": null,
      "outputs": []
    },
    {
      "cell_type": "markdown",
      "metadata": {
        "id": "x5ujUqCI6vr4"
      },
      "source": [
        "4) Ask the user to enter their favourite colour. If they enter “red”, “RED” or\n",
        "“Red” display the message “I like red too”, otherwise display the message\n",
        "“I don’t like [colour], I prefer red”.\n"
      ]
    },
    {
      "cell_type": "code",
      "metadata": {
        "id": "PdT90eRjYzPG",
        "outputId": "60586563-0b06-438b-db6f-20da6005aaa8",
        "colab": {
          "base_uri": "https://localhost:8080/"
        }
      },
      "source": [
        "color = input('What is your favorite color? ')\n",
        "\n",
        "if (color == 'RED' or color == 'Red' or color == 'red'):\n",
        "  print('I like red too.\\U0001F44C')\n",
        "else:\n",
        "  print('I don’t like ' + color + ' \\U0001F44E, I prefer red.')"
      ],
      "execution_count": 34,
      "outputs": [
        {
          "output_type": "stream",
          "text": [
            "What is your favorite color? PINK\n",
            "I don’t like PINK 👎, I prefer red.\n"
          ],
          "name": "stdout"
        }
      ]
    },
    {
      "cell_type": "markdown",
      "metadata": {
        "id": "G3ITFYxc62_r"
      },
      "source": [
        "5) Ask the user if it is raining and convert their answer to lower case\n",
        "so it doesn’t matter what case they type it in. If they answer “yes”,\n",
        "ask if it is windy. If they answer “yes” to this second question,\n",
        "display the answer “It is too windy for an umbrella”, otherwise\n",
        "display the message “Take an umbrella”. If they did not answer yes\n",
        "to the first question, display the answer “Enjoy your day”.\n"
      ]
    },
    {
      "cell_type": "code",
      "metadata": {
        "id": "E4v8W-QQqcMT",
        "outputId": "6915e696-c69b-4297-aa94-32b202f649e4",
        "colab": {
          "base_uri": "https://localhost:8080/"
        }
      },
      "source": [
        "weather1 = str(input('Is it raining \\U0001F4A6? '))\n",
        "\n",
        "if (weather1.lower() == 'yes'):\n",
        "  weather2 = str(input('Is it windy? '))\n",
        "  if (weather2.lower() == 'yes'):\n",
        "    print('It is too windy for an umbrella.')\n",
        "  else:\n",
        "    print('Take an umbrella!')\n",
        "else:\n",
        "  print('Enjoy your day.')"
      ],
      "execution_count": 40,
      "outputs": [
        {
          "output_type": "stream",
          "text": [
            "Is it raining 💦? no\n",
            "Enjoy your day.\n"
          ],
          "name": "stdout"
        }
      ]
    },
    {
      "cell_type": "markdown",
      "metadata": {
        "id": "-WF-0xkM676x"
      },
      "source": [
        "6) Ask the user’s age. If they\n",
        "are 18 or over, display the\n",
        "message “You can vote”, if\n",
        "they are aged 17, display the\n",
        "message “You can learn to\n",
        "drive”, if they are 16, display\n",
        "the message “You can buy a\n",
        "lottery ticket”, if they are\n",
        "under 16, display the\n",
        "message “You can go Trickor-\n",
        "Treating”.\n"
      ]
    },
    {
      "cell_type": "code",
      "metadata": {
        "id": "gXeT6NxGxH-g"
      },
      "source": [
        "age = int (input(\"How old are you? \"))\n",
        "\n",
        "if (age >= 18):\n",
        "  citizen = input(\"Are you a citizen (yes / no)? \")\n",
        "  if (citizen == \"yes\"):\n",
        "    print (\"You can vote.\")\n",
        "  else:\n",
        "    print (\"Only the citizens who are 18 and older can vote.\")\n",
        "\n",
        "elif (age == 17):\n",
        "    print (\"You can learn to drive.\")\n",
        "\n",
        "elif (age == 16):\n",
        "    print (\"You can buy a lottery ticket.\")\n",
        "\n",
        "else:\n",
        "    print (\"You can go Trickor- Treating.\")\n"
      ],
      "execution_count": null,
      "outputs": []
    },
    {
      "cell_type": "markdown",
      "metadata": {
        "id": "ipS-yOG57Bif"
      },
      "source": [
        "7) Ask the user to enter a number. If it is under 10,\n",
        "display the message “Too low”, if their number is\n",
        "between 10 and 20, display “Correct”, otherwise\n",
        "display “Too high”.\n"
      ]
    },
    {
      "cell_type": "code",
      "metadata": {
        "id": "om8aAq54zw26",
        "outputId": "f62c8dd9-ec6d-478c-8008-39820a995a91",
        "colab": {
          "base_uri": "https://localhost:8080/"
        }
      },
      "source": [
        "numb = int (input(\"Enter a number: \"))\n",
        "\n",
        "if (numb < 10):\n",
        "  print (\"Too low.\")\n",
        "\n",
        "elif (numb >= 10) and (numb <= 20):\n",
        "  print (\"Correct.\")\n",
        "\n",
        "else:\n",
        "    print (\"Too high.\")"
      ],
      "execution_count": 59,
      "outputs": [
        {
          "output_type": "stream",
          "text": [
            "Enter a number: 5\n",
            "Too low.\n"
          ],
          "name": "stdout"
        }
      ]
    },
    {
      "cell_type": "markdown",
      "metadata": {
        "id": "ETj9m6px7Ihf"
      },
      "source": [
        "8) Ask the user to enter 1, 2 or 3. If they enter a 1, display\n",
        "the message “Thank you”, if they enter a 2, display\n",
        "“Well done”, if they enter a 3, display “Correct”. If\n",
        "they enter anything else, display “Error message”.\n",
        "\n"
      ]
    },
    {
      "cell_type": "code",
      "metadata": {
        "id": "5SveKv1N2Qhw"
      },
      "source": [
        "Numb = int (input(\"Enter a number 1, 2, or 3: \"))\n",
        "\n",
        "if (Numb == 1):\n",
        "  print (\"Thank you.\")\n",
        "\n",
        "elif (Numb == 2):\n",
        "  print (\"Well done.\")\n",
        "\n",
        "elif (Numb == 3):\n",
        "  print (\"Correct.\")\n",
        "\n",
        "else:\n",
        "    print (\"Error!!!\\nYou should enter 1, 2, or 3.\")"
      ],
      "execution_count": null,
      "outputs": []
    },
    {
      "cell_type": "markdown",
      "metadata": {
        "id": "9zPCMAic7X4p"
      },
      "source": [
        "9) Ask the user to enter 1, 2 or 3. If they enter a 1, display\n",
        "the message “Thank you”, if they enter a 2, display\n",
        "“Well done”, if they enter a 3, display “Correct”. If\n",
        "they enter anything else, display “Error message”."
      ]
    }
  ]
}