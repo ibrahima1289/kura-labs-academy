{
  "nbformat": 4,
  "nbformat_minor": 0,
  "metadata": {
    "colab": {
      "name": "Prime Checker.ipynb",
      "provenance": [],
      "authorship_tag": "ABX9TyOCqHCNoxYE7mfbHcCkHOiR",
      "include_colab_link": true
    },
    "kernelspec": {
      "name": "python3",
      "display_name": "Python 3"
    },
    "language_info": {
      "name": "python"
    }
  },
  "cells": [
    {
      "cell_type": "markdown",
      "metadata": {
        "id": "view-in-github",
        "colab_type": "text"
      },
      "source": [
        "<a href=\"https://colab.research.google.com/github/ibrahima1289/Python-Codes/blob/main/kura%20labs/Prime_Checker.ipynb\" target=\"_parent\"><img src=\"https://colab.research.google.com/assets/colab-badge.svg\" alt=\"Open In Colab\"/></a>"
      ]
    },
    {
      "cell_type": "markdown",
      "metadata": {
        "id": "l5cQMzdNl8Tn"
      },
      "source": [
        "8/3/2021\n",
        "---\n",
        "Kura Labs\n",
        "---\n",
        "Python"
      ]
    },
    {
      "cell_type": "markdown",
      "metadata": {
        "id": "xtWRONkxkFub"
      },
      "source": [
        "First expl of Python code."
      ]
    },
    {
      "cell_type": "code",
      "metadata": {
        "colab": {
          "base_uri": "https://localhost:8080/"
        },
        "id": "JjOEdQWPgk0A",
        "outputId": "3c5d277a-5788-464b-9c6d-3f0871b10b61"
      },
      "source": [
        "print(\"Hello World\")"
      ],
      "execution_count": null,
      "outputs": [
        {
          "output_type": "stream",
          "text": [
            "Hello World\n"
          ],
          "name": "stdout"
        }
      ]
    },
    {
      "cell_type": "markdown",
      "metadata": {
        "id": "u3QHDMjkj4pT"
      },
      "source": [
        "\n",
        "Checking for a Prime."
      ]
    },
    {
      "cell_type": "code",
      "metadata": {
        "colab": {
          "base_uri": "https://localhost:8080/"
        },
        "id": "9lKFLfK3jxgO",
        "outputId": "90ca93d8-3fd8-4266-88eb-1ac5c8045d7d"
      },
      "source": [
        "# This is to check if a number is a prime\n",
        "\n",
        "# define a prime variable\n",
        "prime = False\n",
        "num = int(input('Enter a randum number '))\n",
        "# prime numbers are greater than 1\n",
        "if num > 1:\n",
        "    # check for factors\n",
        "    for i in range(2, num):\n",
        "        if (num % i) == 0:\n",
        "            # if factor is found, set flag to True\n",
        "            prime = True\n",
        "            # break out of loop\n",
        "            break\n",
        "\n",
        "# check if flag is True\n",
        "if prime:\n",
        "    print(num, \"is not a prime number.\")\n",
        "    print(\"The reason is that \",i, \" x \", num // i, \" = \", num,\".\")\n",
        "    print(num,\" has more than two multiples.\")\n",
        "else:\n",
        "    print(num, \"is a prime number\")"
      ],
      "execution_count": null,
      "outputs": [
        {
          "output_type": "stream",
          "text": [
            "Enter a randum number 5\n",
            "5 is a prime number\n"
          ],
          "name": "stdout"
        }
      ]
    }
  ]
}